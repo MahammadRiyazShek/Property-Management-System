{
 "cells": [
  {
   "cell_type": "code",
   "execution_count": null,
   "id": "0c92be77",
   "metadata": {},
   "outputs": [],
   "source": [
    "import pandas as pd\n",
    "import numpy as np\n",
    "import matplotlib.pyplot as plt\n",
    "import seaborn as sns"
   ]
  },
  {
   "cell_type": "code",
   "execution_count": null,
   "id": "a3d249d8",
   "metadata": {},
   "outputs": [],
   "source": [
    "# Generate sample data\n",
    "def generate_sample_data():\n",
    "    data = {\n",
    "        'property_id': [1, 2, 3, 4, 5],\n",
    "        'property_type': ['Apartment', 'House', 'Apartment', 'House', 'Condo'],\n",
    "        'tenant_gender': ['Male', 'Female', 'Male', 'Male', 'Female'],\n",
    "        'rent': [1200, 1500, 1100, 1600, 1000],\n",
    "        'maintenance_issue': ['Plumbing', 'Electrical', 'HVAC', 'Plumbing', 'Other'],\n",
    "        'month': ['Jan', 'Feb', 'Mar', 'Apr', 'May']\n",
    "    }\n",
    "    return pd.DataFrame(data)\n",
    "\n",
    "# Data Cleaning and Preprocessing\n",
    "def clean_data(data):\n",
    "    # No cleaning needed for sample data\n",
    "    return data"
   ]
  },
  {
   "cell_type": "code",
   "execution_count": null,
   "id": "1d4567d3",
   "metadata": {},
   "outputs": [],
   "source": [
    "# Exploratory Data Analysis (EDA)\n",
    "def perform_eda(data):\n",
    "    # Basic statistics\n",
    "    print(data.describe())\n",
    "    # Visualize distributions\n",
    "    sns.histplot(data['rent'], kde=True)\n",
    "    plt.show()"
   ]
  },
  {
   "cell_type": "code",
   "execution_count": null,
   "id": "f8e5e86c",
   "metadata": {},
   "outputs": [],
   "source": [
    "# Analysis Functions\n",
    "def tenant_behavior_analysis(data):\n",
    "    # Example analysis: Tenant demographics\n",
    "    tenant_demographics = data['tenant_gender'].value_counts()\n",
    "    print(\"Tenant Demographics:\\n\", tenant_demographics)"
   ]
  },
  {
   "cell_type": "code",
   "execution_count": null,
   "id": "c9c83a4b",
   "metadata": {},
   "outputs": [],
   "source": [
    "def rental_performance_analysis(data):\n",
    "    # Example analysis: Rental income trends\n",
    "    monthly_income = data.groupby('month')['rent'].sum()\n",
    "    print(\"Monthly Rental Income:\\n\", monthly_income)"
   ]
  },
  {
   "cell_type": "code",
   "execution_count": null,
   "id": "d949e12c",
   "metadata": {},
   "outputs": [],
   "source": [
    "def maintenance_optimization(data):\n",
    "    # Example analysis: Common maintenance issues\n",
    "    common_issues = data['maintenance_issue'].value_counts()\n",
    "    print(\"Common Maintenance Issues:\\n\", common_issues)"
   ]
  },
  {
   "cell_type": "code",
   "execution_count": null,
   "id": "5197b97c",
   "metadata": {},
   "outputs": [],
   "source": [
    "def market_trends_analysis(data):\n",
    "    # Example analysis: Rental prices compared to market benchmarks\n",
    "    rental_prices = data['rent']\n",
    "    market_benchmarks = [1000, 1100, 1050]  # Example market rental prices\n",
    "    # Compare rental prices to market benchmarks and identify trends"
   ]
  },
  {
   "cell_type": "code",
   "execution_count": null,
   "id": "43800ec4",
   "metadata": {},
   "outputs": [],
   "source": [
    "# Main Function\n",
    "def main():\n",
    "    # Generate sample data\n",
    "    data = generate_sample_data()\n",
    "    \n",
    "    # Data Cleaning and Preprocessing\n",
    "    data = clean_data(data)\n",
    "    \n",
    "    # Exploratory Data Analysis\n",
    "    perform_eda(data)\n",
    "    \n",
    "    # Analysis\n",
    "    tenant_behavior_analysis(data)\n",
    "    rental_performance_analysis(data)\n",
    "    maintenance_optimization(data)\n",
    "    market_trends_analysis(data)\n",
    "    \n",
    "main()"
   ]
  }
 ],
 "metadata": {
  "kernelspec": {
   "display_name": "Python 3",
   "language": "python",
   "name": "python3"
  },
  "language_info": {
   "codemirror_mode": {
    "name": "ipython",
    "version": 3
   },
   "file_extension": ".py",
   "mimetype": "text/x-python",
   "name": "python",
   "nbconvert_exporter": "python",
   "pygments_lexer": "ipython3",
   "version": "3.8.5"
  }
 },
 "nbformat": 4,
 "nbformat_minor": 5
}
